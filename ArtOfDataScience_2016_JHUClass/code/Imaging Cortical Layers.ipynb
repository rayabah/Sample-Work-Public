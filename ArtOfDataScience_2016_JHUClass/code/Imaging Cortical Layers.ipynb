{
 "cells": [
  {
   "cell_type": "markdown",
   "metadata": {},
   "source": [
    "### Imaging Cortical Layers"
   ]
  },
  {
   "cell_type": "code",
   "execution_count": 2,
   "metadata": {
    "collapsed": true
   },
   "outputs": [],
   "source": [
    "from mpl_toolkits.mplot3d import axes3d\n",
    "import matplotlib.pyplot as plt\n",
    "#%matplotlib inline \n",
    "import numpy as np\n",
    "import urllib2\n",
    "import scipy.stats as stats\n",
    "\n",
    "np.set_printoptions(precision=3, suppress=True)\n",
    "url = ('https://raw.githubusercontent.com/Upward-Spiral-Science'\n",
    "       '/data/master/syn-density/output.csv')\n",
    "data = urllib2.urlopen(url)\n",
    "csv = np.genfromtxt(data, delimiter=\",\")[1:] # don't want first row (labels)\n",
    "\n",
    "# chopping data based on thresholds on x and y coordinates\n",
    "x_bounds = (409, 3529)\n",
    "y_bounds = (1564, 3124)\n",
    "\n",
    "def check_in_bounds(row, x_bounds, y_bounds):\n",
    "    if row[0] < x_bounds[0] or row[0] > x_bounds[1]:\n",
    "        return False\n",
    "    if row[1] < y_bounds[0] or row[1] > y_bounds[1]:\n",
    "        return False\n",
    "    if row[3] == 0:\n",
    "        return False\n",
    "    \n",
    "    return True\n",
    "\n",
    "indices_in_bound, = np.where(np.apply_along_axis(check_in_bounds, 1, csv,\n",
    "                                                 x_bounds, y_bounds))\n",
    "data_thresholded = csv[indices_in_bound]\n",
    "n = data_thresholded.shape[0]\n",
    "\n",
    "\n",
    "def synapses_over_unmasked(row):\n",
    "    s = (row[4]/row[3])*(64**3)\n",
    "    return [row[0], row[1], row[2], s]\n",
    "\n",
    "syn_unmasked = np.apply_along_axis(synapses_over_unmasked, 1, data_thresholded)\n",
    "syn_normalized = syn_unmasked"
   ]
  },
  {
   "cell_type": "markdown",
   "metadata": {},
   "source": [
    "### Extract images from the imaging site of our proposed cortical layers"
   ]
  },
  {
   "cell_type": "code",
   "execution_count": 1,
   "metadata": {
    "collapsed": false
   },
   "outputs": [
    {
     "ename": "NameError",
     "evalue": "name 'np' is not defined",
     "output_type": "error",
     "traceback": [
      "\u001b[1;31m---------------------------------------------------------------------------\u001b[0m",
      "\u001b[1;31mNameError\u001b[0m                                 Traceback (most recent call last)",
      "\u001b[1;32m<ipython-input-1-8e8330cefa5a>\u001b[0m in \u001b[0;36m<module>\u001b[1;34m()\u001b[0m\n\u001b[0;32m      3\u001b[0m \u001b[1;32mfrom\u001b[0m \u001b[0mimage_builder\u001b[0m \u001b[1;32mimport\u001b[0m \u001b[0mget_image\u001b[0m\u001b[1;33m\u001b[0m\u001b[0m\n\u001b[0;32m      4\u001b[0m \u001b[1;33m\u001b[0m\u001b[0m\n\u001b[1;32m----> 5\u001b[1;33m \u001b[0mxs\u001b[0m \u001b[1;33m=\u001b[0m \u001b[0mnp\u001b[0m\u001b[1;33m.\u001b[0m\u001b[0munique\u001b[0m\u001b[1;33m(\u001b[0m\u001b[0mdata_thresholded\u001b[0m\u001b[1;33m[\u001b[0m\u001b[1;33m:\u001b[0m\u001b[1;33m,\u001b[0m\u001b[1;36m0\u001b[0m\u001b[1;33m]\u001b[0m\u001b[1;33m)\u001b[0m\u001b[1;33m\u001b[0m\u001b[0m\n\u001b[0m\u001b[0;32m      6\u001b[0m \u001b[0mys\u001b[0m \u001b[1;33m=\u001b[0m \u001b[0mnp\u001b[0m\u001b[1;33m.\u001b[0m\u001b[0munique\u001b[0m\u001b[1;33m(\u001b[0m\u001b[0mdata_thresholded\u001b[0m\u001b[1;33m[\u001b[0m\u001b[1;33m:\u001b[0m\u001b[1;33m,\u001b[0m\u001b[1;36m1\u001b[0m\u001b[1;33m]\u001b[0m\u001b[1;33m)\u001b[0m\u001b[1;33m\u001b[0m\u001b[0m\n\u001b[0;32m      7\u001b[0m \u001b[1;33m\u001b[0m\u001b[0m\n",
      "\u001b[1;31mNameError\u001b[0m: name 'np' is not defined"
     ]
    }
   ],
   "source": [
    "# Looking at images across y, and of the layers in the y-direction\n",
    "#########################################################################################\n",
    "from image_builder import get_image\n",
    "\n",
    "xs = np.unique(data_thresholded[:,0])\n",
    "ys = np.unique(data_thresholded[:,1])\n",
    "\n",
    "# Layer across y\n",
    "get_image((0,1),(0,len(ys)-1),xs,ys, \"across_y\")\n",
    "\n",
    "# Each y-layer defined by bounds of local minima in total syn density at each y\n",
    "y_bounds = [(1564,1837), (1837,2071), (2071,2305), (2305,2539), (2539,3124)]\n",
    "\n",
    "for _, bounds in enumerate(y_bounds):\n",
    "\ty_lower = np.where(ys==bounds[0])[0][0]\n",
    "\ty_upper = np.where(ys==bounds[1])[0][0]\n",
    "\tprint y_lower,y_upper\n",
    "\ti = get_image((0,1),(y_lower,y_upper),xs,ys,str(bounds[0])+\"_\"+str(bounds[1]))"
   ]
  },
  {
   "cell_type": "markdown",
   "metadata": {},
   "source": [
    "### Held at one x-value, spanning across all Y\n",
    "<img src=\"across_y.bmp\">\n",
    "### Y Idcs 1564:1837\n",
    "<img src=\"1564_1837.bmp\">\n",
    "### Y Idcs 1837:2071\n",
    "<img src=\"1837_2071.bmp\">\n",
    "### Y Idcs 2071:2305\n",
    "<img src=\"2071_2305.bmp\">\n",
    "### Y Idcs 2305:2539\n",
    "<img src=\"2305_2539.bmp\">\n",
    "### Y Idcs 2539:3124\n",
    "<img src=\"2539_3124.bmp\">"
   ]
  },
  {
   "cell_type": "code",
   "execution_count": null,
   "metadata": {
    "collapsed": true
   },
   "outputs": [],
   "source": []
  }
 ],
 "metadata": {
  "kernelspec": {
   "display_name": "Python 2",
   "language": "python",
   "name": "python2"
  },
  "language_info": {
   "codemirror_mode": {
    "name": "ipython",
    "version": 2
   },
   "file_extension": ".py",
   "mimetype": "text/x-python",
   "name": "python",
   "nbconvert_exporter": "python",
   "pygments_lexer": "ipython2",
   "version": "2.7.11"
  }
 },
 "nbformat": 4,
 "nbformat_minor": 0
}
