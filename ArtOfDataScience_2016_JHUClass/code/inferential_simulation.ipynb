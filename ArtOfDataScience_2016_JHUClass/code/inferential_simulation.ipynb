{
 "cells": [
  {
   "cell_type": "markdown",
   "metadata": {},
   "source": [
    "*Revised version: instead of considering just the synapse values alone, we consider instead synapses/unmasked, as per Greg's explanation of the unmasked variable*\n",
    "\n",
    "### Define Model\n",
    "\n",
    "\n",
    "Call a row vector from our data set $X_i=(x_i, y_i, z_i, u_i, s_i)$ where positions are respective to those in the original data set. Each row vector represents a 'bin' of pixels, let the number of rows in the data correspond to N. We will look at the number of synapses per bin, and whether the number follows a uniform distribution, conditioned on unmasked.\n",
    "\n",
    "### Assumptions\n",
    "The number of synapses per bin follows a multinomial distribution, where the probability of synapses is conditioned on the unmasked value for that bin. \n",
    "\n",
    "### Statistical test\n",
    "\n",
    "We will test whether or not the number of synapses are distributed uniformly across each bin. In other words does X follow a multinomial distribution where each cell has equal probabilities.\n",
    "\n",
    "$H_0: \\textrm{ all cells have equal probability }$\n",
    "\n",
    "$H_A: \\textrm{ cells do not have equal probability }$\n",
    "\n",
    "\n",
    "### Test statistic \n",
    "We'll use Pearson's Chi Squared Test to determine whether to reject the null. First, define $\\bar \\pi$ to be the average synaptic density (synapse/unmasked) across all bins. Let $E_i$, the expected number of synapses at bin i, be $E_i=\\bar \\pi u_i$ where $u_i$ is unmasked value at that bin. Let $X_i$ be the observed number of synapses.\n",
    "Our test statistic is as follows\n",
    "$$\n",
    "T = \\sum_{i = 1}^{N} \\frac{(X_i - E_i)^2}{X_i}\n",
    "$$\n",
    "\n",
    "and it approximately follows a chi-squared distribution with N-1 degrees of freedom. Therefore, given a signifigance level, $\\alpha$, we can use the inverse CDF of the chi-squared distribution to determine a critical value. When T is greater than the critical value, we can reject the null."
   ]
  },
  {
   "cell_type": "code",
   "execution_count": 2,
   "metadata": {
    "collapsed": false
   },
   "outputs": [
    {
     "name": "stdout",
     "output_type": "stream",
     "text": [
      "(11,)\n",
      "[     10.         10.638      11.316      12.038      12.805      13.622\n",
      "      14.49       15.414      16.397      17.443      18.555      19.738\n",
      "      20.997      22.335      23.76       25.275      26.886      28.601\n",
      "      30.424      32.364      34.428      36.623      38.959      41.443\n",
      "      44.085      46.897      49.887      53.068      56.452      60.051\n",
      "      63.881      67.954      72.287      76.896      81.8        87.016\n",
      "      92.564      98.467     104.745     111.424     118.529     126.087\n",
      "     134.127     142.68      151.778     161.456     171.751     182.703\n",
      "     194.353     206.746     219.929     233.952     248.87      264.74\n",
      "     281.621     299.578     318.681     339.001     360.618     383.612\n",
      "     408.073     434.094     461.774     491.219     522.542     555.861\n",
      "     591.306     629.01      669.119     711.785     757.172     805.453\n",
      "     856.813     911.447     969.566    1031.39     1097.156    1167.116\n",
      "    1241.537    1320.704    1404.918    1494.502    1589.799    1691.173\n",
      "    1799.01     1913.724    2035.752    2165.561    2303.648    2450.54\n",
      "    2606.798    2773.02     2949.841    3137.938    3338.028    3550.877\n",
      "    3777.298    4018.156    4274.374    4546.928    4836.863    5145.285\n",
      "    5473.373    5822.382    6193.645    6588.582    7008.702    7455.611\n",
      "    7931.017    8436.737    8974.704    9546.975   10155.736   10803.315\n",
      "   11492.187   12224.985   13004.509   13833.74    14715.846   15654.2\n",
      "   16652.388   17714.225   18843.77    20045.34    21323.528   22683.22\n",
      "   24129.612   25668.233   27304.964   29046.061   30898.179   32868.397\n",
      "   34964.246   37193.736   39565.389   42088.27    44772.022   47626.904\n",
      "   50663.826   53894.398   57330.966   60986.667   64875.473   69012.248\n",
      "   73412.804   78093.961   83073.611   88370.787   94005.738  100000.   ]\n"
     ]
    }
   ],
   "source": [
    "import numpy as np\n",
    "from scipy import stats\n",
    "import matplotlib.pyplot as plt\n",
    "import itertools\n",
    "import urllib2\n",
    "import scipy.stats as stats\n",
    "\n",
    "%matplotlib inline\n",
    "\n",
    "np.set_printoptions(precision=3, threshold=1000000, suppress=True)\n",
    "np.random.seed(1)\n",
    "alpha = .025\n",
    "url = ('https://raw.githubusercontent.com/Upward-Spiral-Science'\n",
    "       '/data/master/syn-density/output.csv')\n",
    "data = urllib2.urlopen(url)\n",
    "csv = np.genfromtxt(data, delimiter=\",\")[1:] # don't want first row (labels)\n",
    "num_samples = 150 # how many different sized samples to draw\n",
    "N = np.sum(csv[:, -1]) # total data set size\n",
    "L = np.unique(csv[:, 2]) # list of labels\n",
    "print L.shape\n",
    "\n",
    "# sample sizes to iterate over\n",
    "sample_sizes = np.logspace(1.0, 5.0, num=num_samples, base=10.0)\n",
    "print sample_sizes"
   ]
  },
  {
   "cell_type": "markdown",
   "metadata": {},
   "source": [
    "### Step 4a: Sample data from null"
   ]
  },
  {
   "cell_type": "code",
   "execution_count": 23,
   "metadata": {
    "collapsed": false
   },
   "outputs": [],
   "source": [
    "# simulated sampling under the null\n",
    "repeats = 100 # how many repitions per sample size\n",
    "pi_null = np.array([1.0/float(len(L))]*len(L)) # pi vector under the null (uniform probs)\n",
    "power_null = []\n",
    "for s in sample_sizes:\n",
    "    power = 0\n",
    "    E_i = pi_null*s # expected per label\n",
    "    for r in xrange(repeats):\n",
    "        null_data = np.random.multinomial(s, pi_null)\n",
    "        chi_sq = stats.chisquare(null_data, E_i)\n",
    "        p_value = chi_sq[1]\n",
    "        # can we reject the null hypothesis\n",
    "        if p_value < alpha:\n",
    "            power = power + 1\n",
    "    power_null.append(float(power)/float(repeats))\n"
   ]
  },
  {
   "cell_type": "markdown",
   "metadata": {},
   "source": [
    "### Step 4b: Sample data from alternate"
   ]
  },
  {
   "cell_type": "code",
   "execution_count": 24,
   "metadata": {
    "collapsed": false
   },
   "outputs": [],
   "source": [
    "# simulated sampling under alternate\n",
    "repeats = 100 # how many repitions per sample size\n",
    "power_alt = []\n",
    "pi_alt = np.random.rand(len(L)) # create a pi vector (random probabilities)\n",
    "pi_alt = pi_alt/np.sum(pi_alt) # normalize\n",
    "for s in sample_sizes:\n",
    "    power = 0\n",
    "    E_i = pi_null*s # all labels have equal expectancy\n",
    "    for r in xrange(repeats):\n",
    "        alt_data = np.random.multinomial(s, pi_alt) # use pi vector to gen data\n",
    "        chi_sq = stats.chisquare(alt_data, E_i)\n",
    "        p_value = chi_sq[1]\n",
    "        # can we reject the null hypothesis\n",
    "        if p_value < alpha:\n",
    "            power = power + 1\n",
    "    power_alt.append(float(power)/float(repeats))"
   ]
  },
  {
   "cell_type": "markdown",
   "metadata": {
    "collapsed": true
   },
   "source": [
    "### Step 5: Plot power vs n"
   ]
  },
  {
   "cell_type": "code",
   "execution_count": 27,
   "metadata": {
    "collapsed": false
   },
   "outputs": [
    {
     "data": {
      "image/png": "[encoded data removed]",
      "text/plain": [
       "<matplotlib.figure.Figure at 0x112eecb50>"
      ]
     },
     "metadata": {},
     "output_type": "display_data"
    }
   ],
   "source": [
    "plt.scatter(sample_sizes, power_null, hold=True, label='null', s=4)\n",
    "plt.scatter(sample_sizes, power_alt, color='green', hold=True, label='alt', s=4)\n",
    "plt.xlabel('sample size')\n",
    "plt.xscale('log')\n",
    "plt.ylabel('power')\n",
    "plt.axhline(alpha, color='red', linestyle='--', label='alpha')\n",
    "plt.legend(loc=5)\n",
    "plt.show()"
   ]
  },
  {
   "cell_type": "markdown",
   "metadata": {},
   "source": [
    "### Apply to data"
   ]
  },
  {
   "cell_type": "code",
   "execution_count": 11,
   "metadata": {
    "collapsed": false
   },
   "outputs": [
    {
     "name": "stdout",
     "output_type": "stream",
     "text": [
      "[  0.   0.   0.   0.   0.  17.   0.   0.   0.   1.   0.   0.   0.   0.   0.\n",
      "  13.   0.   0.   0.   0.   1.   0.   0.   0.   0.  16.   0.   0.   0.   0.\n",
      "   0.   0.   0.   0.   0.   0.  21.   0.   0.   0.   1.   0.   0.   0.   0.\n",
      "   0.   0.  17.   0.   0.]\n",
      "[  5.263   3.717   4.741   1.581   1.581  15.53    1.581   4.743   1.242\n",
      "   4.743   4.953   4.002   4.719   1.581   1.581  15.255   1.581   4.743\n",
      "   1.139   4.743   5.048   4.081   4.743   1.581   1.581  14.965   1.581\n",
      "   4.743   0.899   4.743   0.456   6.341   4.164   4.724   1.581   1.581\n",
      "  14.563   1.581   4.743   0.756   4.743   1.581   6.36    4.349   4.743\n",
      "   1.581   1.581  14.356   1.581   4.743]\n",
      "Power_divergenceResult(statistic=1080693.9012075576, pvalue=0.0)\n"
     ]
    }
   ],
   "source": [
    "from __future__ import division\n",
    "csv = csv[np.where(csv[:, -2] != 0)]\n",
    "X = csv[:, -1]\n",
    "density = csv[:, -1]/csv[:,-2]\n",
    "# get average density (probability)\n",
    "avg = np.average(density)\n",
    "# expected values are everage probability multipled by unmasked per bin\n",
    "E = csv[:, -2]*avg\n",
    "print X[:50]\n",
    "print E[:50]\n",
    "print stats.chisquare(X, E)"
   ]
  },
  {
   "cell_type": "markdown",
   "metadata": {},
   "source": [
    "### Reflect\n",
    "\n",
    "Thus we reject the null hypothesis that the synapses are uniformly distributed."
   ]
  }
 ],
 "metadata": {
  "kernelspec": {
   "display_name": "Python 2",
   "language": "python",
   "name": "python2"
  },
  "language_info": {
   "codemirror_mode": {
    "name": "ipython",
    "version": 2
   },
   "file_extension": ".py",
   "mimetype": "text/x-python",
   "name": "python",
   "nbconvert_exporter": "python",
   "pygments_lexer": "ipython2",
   "version": "2.7.11"
  }
 },
 "nbformat": 4,
 "nbformat_minor": 0
}
