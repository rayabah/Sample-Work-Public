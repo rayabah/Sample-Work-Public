{
 "cells": [
  {
   "cell_type": "markdown",
   "metadata": {},
   "source": [
    "# Defining Outliers\n",
    "\n",
    "We shouldn’t just use synapse data to determine outliers. This is because outliers may be hidden by their unmasking value. \n",
    "We know there is a correlation between these two variables of 0.89. We may have to refine our definition of outliers in the future. At this point, we decided that outliers are data points that have a unmasking value greater than the first quartile.\n"
   ]
  },
  {
   "cell_type": "code",
   "execution_count": 8,
   "metadata": {
    "collapsed": false
   },
   "outputs": [],
   "source": [
    "from mpl_toolkits.mplot3d import axes3d\n",
    "import matplotlib.pyplot as plt\n",
    "%matplotlib inline\n",
    "import numpy as np\n",
    "import urllib2\n",
    "\n",
    "url = ('https://raw.githubusercontent.com/Upward-Spiral-Science'\n",
    "       '/data/master/syn-density/output.csv')\n",
    "data = urllib2.urlopen(url)\n",
    "csv = np.genfromtxt(data, delimiter=\",\")[1:] # don't want first row (labels)\n",
    "\n",
    "def check_condition(row):\n",
    "    if row[4] == 0:\n",
    "        return False\n",
    "    return True\n",
    "\n",
    "a = np.apply_along_axis(check_condition, 1, csv)\n",
    "a = np.where(a == True)[0]\n",
    "csv = csv[a, :]\n"
   ]
  },
  {
   "cell_type": "markdown",
   "metadata": {},
   "source": [
    "Determine unmasked threshold for outliers."
   ]
  },
  {
   "cell_type": "code",
   "execution_count": 7,
   "metadata": {
    "collapsed": false
   },
   "outputs": [
    {
     "name": "stdout",
     "output_type": "stream",
     "text": [
      "unMaskedThresh: 125237.713292\n"
     ]
    },
    {
     "data": {
      "image/png": "[encoded data removed]",
      "text/plain": [
       "<matplotlib.figure.Figure at 0x5978870>"
      ]
     },
     "metadata": {},
     "output_type": "display_data"
    }
   ],
   "source": [
    "newcsv = csv[:,3]/np.amax(csv[:,3])\n",
    "newsyn = csv[:,4]/np.amax(csv[:,4])\n",
    "a = np.divide(csv[:,4],newcsv)\n",
    "unMaskedThresh = np.mean(csv[:,3]) #+ np.std(csv[:,3])\n",
    "\n",
    "print \"unMaskedThresh: \" + str(unMaskedThresh)\n",
    "\n",
    "def check_condition(row):\n",
    "    if row[3] < unMaskedThresh:\n",
    "        return False\n",
    "    return True\n",
    "\n",
    "a = np.apply_along_axis(check_condition, 1, csv)\n",
    "a = np.where(a == True)[0]\n",
    "csv = csv[a, :]\n",
    "\n",
    "fig = plt.figure(5)\n",
    "ax = fig.gca()\n",
    "plt.hist(csv[:,3],bins=25)\n",
    "ax.set_title('Unmasked Values above Unmasked Threshold')\n",
    "ax.set_xlabel('num')\n",
    "\n",
    "\n",
    "plt.show()"
   ]
  }
 ],
 "metadata": {
  "kernelspec": {
   "display_name": "Python 2",
   "language": "python",
   "name": "python2"
  },
  "language_info": {
   "codemirror_mode": {
    "name": "ipython",
    "version": 2
   },
   "file_extension": ".py",
   "mimetype": "text/x-python",
   "name": "python",
   "nbconvert_exporter": "python",
   "pygments_lexer": "ipython2",
   "version": "2.7.10"
  }
 },
 "nbformat": 4,
 "nbformat_minor": 0
}
