{
 "cells": [
  {
   "cell_type": "markdown",
   "metadata": {},
   "source": [
    "### Setup"
   ]
  },
  {
   "cell_type": "code",
   "execution_count": 6,
   "metadata": {
    "collapsed": false,
    "scrolled": true
   },
   "outputs": [
    {
     "name": "stdout",
     "output_type": "stream",
     "text": [
      "[ 0.00152724  0.00160285  0.00162364 ...,  0.00092469  0.00060045\n",
      "  0.00093872]\n",
      "[ 0.92781019  1.11377747  1.1649147  ..., -0.55424367 -1.35176376\n",
      " -0.51974171]\n"
     ]
    }
   ],
   "source": [
    "import matplotlib.pyplot as plt\n",
    "%matplotlib inline\n",
    "import numpy as np\n",
    "import urllib2\n",
    "from __future__ import division\n",
    "\n",
    "np.random.seed(1)\n",
    "url = ('https://raw.githubusercontent.com/Upward-Spiral-Science'\n",
    "       '/data/master/syn-density/output.csv')\n",
    "data = urllib2.urlopen(url)\n",
    "csv = np.genfromtxt(data, delimiter=\",\")[1:] # don't want first row (labels)\n",
    "\n",
    "# chopping data based on thresholds on x and y coordinates\n",
    "x_bounds = (409, 3529)\n",
    "y_bounds = (1564, 3124)\n",
    "\n",
    "def check_in_bounds(row, x_bounds, y_bounds):\n",
    "    if row[0] < x_bounds[0] or row[0] > x_bounds[1]:\n",
    "        return False\n",
    "    if row[1] < y_bounds[0] or row[1] > y_bounds[1]:\n",
    "        return False\n",
    "    if row[3] == 0:\n",
    "        return False\n",
    "\n",
    "    return True\n",
    "\n",
    "indices_in_bound, = np.where(np.apply_along_axis(check_in_bounds, 1, csv, x_bounds, y_bounds))\n",
    "data_thresholded = csv[indices_in_bound]\n",
    "n = data_thresholded.shape[0]\n",
    "data = data_thresholded\n",
    "data[:, -2] = data[:,-1]/data[:,-2]\n",
    "data = data[:, :-1]\n",
    "print data[:, -1]\n",
    "# normalize  density so they're not super tiny values\n",
    "data[:, -1] -= np.average(data[:, -1])\n",
    "data[:, -1] /= np.std(data[:, -1])\n",
    "print data[:, -1]"
   ]
  },
  {
   "cell_type": "code",
   "execution_count": 7,
   "metadata": {
    "collapsed": false
   },
   "outputs": [
    {
     "data": {
      "image/png": "[encoded data removed]",
      "text/plain": [
       "<matplotlib.figure.Figure at 0x10641d750>"
      ]
     },
     "metadata": {},
     "output_type": "display_data"
    },
    {
     "name": "stdout",
     "output_type": "stream",
     "text": [
      "mean r^2 maximized at:  29\n",
      "variance minimized at:  18\n"
     ]
    }
   ],
   "source": [
    "from sklearn.neighbors import KNeighborsRegressor as KNN\n",
    "from sklearn import cross_validation\n",
    "\n",
    "X = data[:, (0, 1, 2)]\n",
    "Y = data[:, -1]\n",
    "\n",
    "n_neighbors = np.arange(1, 50)\n",
    "r2 = []\n",
    "for n in n_neighbors:\n",
    "    reg = KNN(n_neighbors=n, algorithm='auto', weights='distance')\n",
    "    scores = cross_validation.cross_val_score(reg, X, Y, scoring='r2', cv=10)\n",
    "    r2.append(np.array([scores.mean(), scores.std()]))\n",
    "r2 = np.array(r2)\n",
    "\n",
    "plt.errorbar(n_neighbors, r2[:,0], yerr = r2[:,1])\n",
    "plt.title(\"Number of neighbors against R^2 for KNN Regression\")\n",
    "plt.xlabel(\"number of neighbors\")\n",
    "plt.ylabel(\"R^2\")\n",
    "plt.show()\n",
    "print \"mean r^2 maximized at: \", np.argmax(r2[:,0])+1\n",
    "print \"variance minimized at: \", np.argmin(r2[:,1])+1"
   ]
  },
  {
   "cell_type": "code",
   "execution_count": null,
   "metadata": {
    "collapsed": false
   },
   "outputs": [],
   "source": [
    "from sklearn.ensemble import RandomForestRegressor as RF\n",
    "\n",
    "depth = np.arange(1, 20)\n",
    "r2 = []\n",
    "for d in depth:\n",
    "    reg = RF(max_depth=d, max_features=1)\n",
    "    scores = cross_validation.cross_val_score(reg, X, Y, scoring='r2', cv=10)\n",
    "    r2.append(np.array([scores.mean(), scores.std()]))\n",
    "r2 = np.array(r2)\n",
    "\n",
    "plt.errorbar(depth, r2[:,0], yerr = r2[:,1])\n",
    "plt.title(\"Max depth against R^2 for RandomForestRegression\")\n",
    "plt.xlabel(\"Max depth\")\n",
    "plt.ylabel(\"R^2\")\n",
    "plt.show()\n",
    "print \"mean r^2 maximized at: \", np.argmax(r2[:,0])+1\n",
    "print \"variance minimized at: \", np.argmin(r2[:,1])+1"
   ]
  },
  {
   "cell_type": "code",
   "execution_count": null,
   "metadata": {
    "collapsed": false
   },
   "outputs": [],
   "source": [
    "features = np.arange(1, 4)\n",
    "r2 = []\n",
    "for f in features:\n",
    "    reg = RF(max_depth=10, max_features=f)\n",
    "    scores = cross_validation.cross_val_score(reg, X, Y, scoring='r2', cv=10)\n",
    "    r2.append(np.array([scores.mean(), scores.std()]))\n",
    "    print(\"R^2 of %s: %0.2f (+/- %0.2f)\" % ('RF', scores.mean(), scores.std() * 2))\n",
    "r2 = np.array(r2)"
   ]
  },
  {
   "cell_type": "code",
   "execution_count": 2,
   "metadata": {
    "collapsed": false
   },
   "outputs": [
    {
     "ename": "KeyboardInterrupt",
     "evalue": "",
     "output_type": "error",
     "traceback": [
      "\u001b[0;31m---------------------------------------------------------------------------\u001b[0m",
      "\u001b[0;31mKeyboardInterrupt\u001b[0m                         Traceback (most recent call last)",
      "\u001b[0;32m<ipython-input-2-aa9cdeec1414>\u001b[0m in \u001b[0;36m<module>\u001b[0;34m()\u001b[0m\n\u001b[1;32m     19\u001b[0m     \u001b[0;32mreturn\u001b[0m \u001b[0mTrue\u001b[0m\u001b[0;34m\u001b[0m\u001b[0m\n\u001b[1;32m     20\u001b[0m \u001b[0;34m\u001b[0m\u001b[0m\n\u001b[0;32m---> 21\u001b[0;31m \u001b[0mindices_in_bound\u001b[0m\u001b[0;34m,\u001b[0m \u001b[0;34m=\u001b[0m \u001b[0mnp\u001b[0m\u001b[0;34m.\u001b[0m\u001b[0mwhere\u001b[0m\u001b[0;34m(\u001b[0m\u001b[0mnp\u001b[0m\u001b[0;34m.\u001b[0m\u001b[0mapply_along_axis\u001b[0m\u001b[0;34m(\u001b[0m\u001b[0mcheck_in_bounds\u001b[0m\u001b[0;34m,\u001b[0m \u001b[0;36m1\u001b[0m\u001b[0;34m,\u001b[0m \u001b[0mcsv\u001b[0m\u001b[0;34m,\u001b[0m \u001b[0mx_bounds\u001b[0m\u001b[0;34m,\u001b[0m \u001b[0my_bounds\u001b[0m\u001b[0;34m)\u001b[0m\u001b[0;34m)\u001b[0m\u001b[0;34m\u001b[0m\u001b[0m\n\u001b[0m\u001b[1;32m     22\u001b[0m \u001b[0mdata_thresholded\u001b[0m \u001b[0;34m=\u001b[0m \u001b[0mcsv\u001b[0m\u001b[0;34m[\u001b[0m\u001b[0mindices_in_bound\u001b[0m\u001b[0;34m]\u001b[0m\u001b[0;34m\u001b[0m\u001b[0m\n\u001b[1;32m     23\u001b[0m \u001b[0mn\u001b[0m \u001b[0;34m=\u001b[0m \u001b[0mdata_thresholded\u001b[0m\u001b[0;34m.\u001b[0m\u001b[0mshape\u001b[0m\u001b[0;34m[\u001b[0m\u001b[0;36m0\u001b[0m\u001b[0;34m]\u001b[0m\u001b[0;34m\u001b[0m\u001b[0m\n",
      "\u001b[0;32m//anaconda/lib/python2.7/site-packages/numpy/lib/shape_base.pyc\u001b[0m in \u001b[0;36mapply_along_axis\u001b[0;34m(func1d, axis, arr, *args, **kwargs)\u001b[0m\n\u001b[1;32m    104\u001b[0m                 \u001b[0mind\u001b[0m\u001b[0;34m[\u001b[0m\u001b[0mn\u001b[0m\u001b[0;34m]\u001b[0m \u001b[0;34m=\u001b[0m \u001b[0;36m0\u001b[0m\u001b[0;34m\u001b[0m\u001b[0m\n\u001b[1;32m    105\u001b[0m                 \u001b[0mn\u001b[0m \u001b[0;34m-=\u001b[0m \u001b[0;36m1\u001b[0m\u001b[0;34m\u001b[0m\u001b[0m\n\u001b[0;32m--> 106\u001b[0;31m             \u001b[0mi\u001b[0m\u001b[0;34m.\u001b[0m\u001b[0mput\u001b[0m\u001b[0;34m(\u001b[0m\u001b[0mindlist\u001b[0m\u001b[0;34m,\u001b[0m \u001b[0mind\u001b[0m\u001b[0;34m)\u001b[0m\u001b[0;34m\u001b[0m\u001b[0m\n\u001b[0m\u001b[1;32m    107\u001b[0m             \u001b[0mres\u001b[0m \u001b[0;34m=\u001b[0m \u001b[0mfunc1d\u001b[0m\u001b[0;34m(\u001b[0m\u001b[0marr\u001b[0m\u001b[0;34m[\u001b[0m\u001b[0mtuple\u001b[0m\u001b[0;34m(\u001b[0m\u001b[0mi\u001b[0m\u001b[0;34m.\u001b[0m\u001b[0mtolist\u001b[0m\u001b[0;34m(\u001b[0m\u001b[0;34m)\u001b[0m\u001b[0;34m)\u001b[0m\u001b[0;34m]\u001b[0m\u001b[0;34m,\u001b[0m \u001b[0;34m*\u001b[0m\u001b[0margs\u001b[0m\u001b[0;34m,\u001b[0m \u001b[0;34m**\u001b[0m\u001b[0mkwargs\u001b[0m\u001b[0;34m)\u001b[0m\u001b[0;34m\u001b[0m\u001b[0m\n\u001b[1;32m    108\u001b[0m             \u001b[0moutarr\u001b[0m\u001b[0;34m[\u001b[0m\u001b[0mtuple\u001b[0m\u001b[0;34m(\u001b[0m\u001b[0mind\u001b[0m\u001b[0;34m)\u001b[0m\u001b[0;34m]\u001b[0m \u001b[0;34m=\u001b[0m \u001b[0mres\u001b[0m\u001b[0;34m\u001b[0m\u001b[0m\n",
      "\u001b[0;31mKeyboardInterrupt\u001b[0m: "
     ]
    }
   ],
   "source": [
    "np.random.seed(1)\n",
    "url = ('https://raw.githubusercontent.com/Upward-Spiral-Science'\n",
    "       '/data/master/syn-density/output.csv')\n",
    "data = urllib2.urlopen(url)\n",
    "csv = np.genfromtxt(data, delimiter=\",\")[1:] # don't want first row (labels)\n",
    "\n",
    "# chopping data based on thresholds on x and y coordinates\n",
    "x_bounds = (409, 3529)\n",
    "y_bounds = (1564, 3124)\n",
    "\n",
    "def check_in_bounds(row, x_bounds, y_bounds):\n",
    "    if row[0] < x_bounds[0] or row[0] > x_bounds[1]:\n",
    "        return False\n",
    "    if row[1] < y_bounds[0] or row[1] > y_bounds[1]:\n",
    "        return False\n",
    "    if row[3] == 0:\n",
    "        return False\n",
    "\n",
    "    return True\n",
    "\n",
    "indices_in_bound, = np.where(np.apply_along_axis(check_in_bounds, 1, csv, x_bounds, y_bounds))\n",
    "data_thresholded = csv[indices_in_bound]\n",
    "n = data_thresholded.shape[0]\n",
    "data = data_thresholded"
   ]
  },
  {
   "cell_type": "code",
   "execution_count": null,
   "metadata": {
    "collapsed": true
   },
   "outputs": [],
   "source": [
    "data[:, -2] = data[:,-1]/data[:,-2]\n",
    "data = data[:, :-1]\n",
    "print data[:, -1]\n",
    "# normalize  density so they're not super tiny values\n",
    "data[:, -1] -= np.average(data[:, -1])\n",
    "data[:, -1] /= np.std(data[:, -1])\n",
    "print data[:, -1]"
   ]
  },
  {
   "cell_type": "code",
   "execution_count": 5,
   "metadata": {
    "collapsed": false
   },
   "outputs": [
    {
     "name": "stdout",
     "output_type": "stream",
     "text": [
      "0.246363144547 0.0390236491997\n"
     ]
    }
   ],
   "source": [
    "from sklearn.neighbors import KNeighborsRegressor as KNN\n",
    "from sklearn import cross_validation\n",
    "\n",
    "X = data[:, (0, 1, 2)]\n",
    "Y = data[:, -1]\n",
    "\n",
    "reg = KNN(n_neighbors=30, algorithm='auto', weights='distance')\n",
    "scores = cross_validation.cross_val_score(reg, X, Y, scoring='r2', cv=10)\n",
    "print scores.mean(), scores.std()"
   ]
  },
  {
   "cell_type": "code",
   "execution_count": null,
   "metadata": {
    "collapsed": true
   },
   "outputs": [],
   "source": []
  }
 ],
 "metadata": {
  "kernelspec": {
   "display_name": "Python 2",
   "language": "python",
   "name": "python2"
  },
  "language_info": {
   "codemirror_mode": {
    "name": "ipython",
    "version": 2
   },
   "file_extension": ".py",
   "mimetype": "text/x-python",
   "name": "python",
   "nbconvert_exporter": "python",
   "pygments_lexer": "ipython2",
   "version": "2.7.11"
  }
 },
 "nbformat": 4,
 "nbformat_minor": 0
}
