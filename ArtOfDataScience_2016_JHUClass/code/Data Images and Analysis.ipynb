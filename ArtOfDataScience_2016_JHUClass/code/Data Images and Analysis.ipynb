{
 "cells": [
  {
   "cell_type": "markdown",
   "metadata": {},
   "source": [
    "### Setup"
   ]
  },
  {
   "cell_type": "code",
   "execution_count": 1,
   "metadata": {
    "collapsed": true
   },
   "outputs": [],
   "source": [
    "from mpl_toolkits.mplot3d import axes3d\n",
    "import matplotlib.pyplot as plt\n",
    "#%matplotlib inline \n",
    "import numpy as np\n",
    "import urllib2\n",
    "import scipy.stats as stats\n",
    "\n",
    "np.set_printoptions(precision=3, suppress=True)\n",
    "url = ('https://raw.githubusercontent.com/Upward-Spiral-Science'\n",
    "       '/data/master/syn-density/output.csv')\n",
    "data = urllib2.urlopen(url)\n",
    "csv = np.genfromtxt(data, delimiter=\",\")[1:] # don't want first row (labels)\n",
    "\n",
    "# chopping data based on thresholds on x and y coordinates\n",
    "x_bounds = (409, 3529)\n",
    "y_bounds = (1564, 3124)\n",
    "\n",
    "def check_in_bounds(row, x_bounds, y_bounds):\n",
    "    if row[0] < x_bounds[0] or row[0] > x_bounds[1]:\n",
    "        return False\n",
    "    if row[1] < y_bounds[0] or row[1] > y_bounds[1]:\n",
    "        return False\n",
    "    if row[3] == 0:\n",
    "        return False\n",
    "    \n",
    "    return True\n",
    "\n",
    "indices_in_bound, = np.where(np.apply_along_axis(check_in_bounds, 1, csv,\n",
    "                                                 x_bounds, y_bounds))\n",
    "data_thresholded = csv[indices_in_bound]\n",
    "n = data_thresholded.shape[0]\n",
    "\n",
    "\n",
    "def synapses_over_unmasked(row):\n",
    "    s = (row[4]/row[3])*(64**3)\n",
    "    return [row[0], row[1], row[2], s]\n",
    "\n",
    "syn_unmasked = np.apply_along_axis(synapses_over_unmasked, 1, data_thresholded)\n",
    "syn_normalized = syn_unmasked"
   ]
  },
  {
   "cell_type": "markdown",
   "metadata": {},
   "source": [
    "### Imaging Cortical Layers"
   ]
  },
  {
   "cell_type": "code",
   "execution_count": 7,
   "metadata": {
    "collapsed": false
   },
   "outputs": [],
   "source": [
    "# Looking at images across y, and of the layers in the y-direction\n",
    "#########################################################################################\n",
    "from image_builder import get_image\n",
    "\n",
    "xs = np.unique(data_thresholded[:,0])\n",
    "ys = np.unique(data_thresholded[:,1])\n",
    "\n",
    "# Layer across y\n",
    "get_image((0,1),(0,len(ys)-1),xs,ys, \"across_y\")"
   ]
  },
  {
   "cell_type": "code",
   "execution_count": null,
   "metadata": {
    "collapsed": true
   },
   "outputs": [],
   "source": [
    "# Each y-layer defined by bounds of local minima in total syn density at each y\n",
    "y_bounds = [(1564,1837), (1837,2071), (2071,2305), (2305,2539), (2539,3124)]\n",
    "\n",
    "for _, bounds in enumerate(y_bounds):\n",
    "\ty_lower = np.where(ys==bounds[0])[0][0]\n",
    "\ty_upper = np.where(ys==bounds[1])[0][0]\n",
    "\tprint y_lower,y_upper\n",
    "\ti = get_image((0,1),(y_lower,y_upper),xs,ys,str(bounds[0])+\"_\"+str(bounds[1]))"
   ]
  },
  {
   "cell_type": "markdown",
   "metadata": {},
   "source": [
    "### Held at one x-value, spanning across all Y\n",
    "<img src=\"across_y.bmp\">\n",
    "### Y Idcs 1564:1837\n",
    "<img src=\"1564_1837.bmp\">\n",
    "### Y Idcs 1837:2071\n",
    "<img src=\"1837_2071.bmp\">\n",
    "### Y Idcs 2071:2305\n",
    "<img src=\"2071_2305.bmp\">\n",
    "### Y Idcs 2305:2539\n",
    "<img src=\"2305_2539.bmp\">\n",
    "### Y Idcs 2539:3124\n",
    "<img src=\"2539_3124.bmp\">"
   ]
  },
  {
   "cell_type": "markdown",
   "metadata": {
    "collapsed": true
   },
   "source": [
    "### How can we differentiate synapses from other features in the images above?"
   ]
  },
  {
   "cell_type": "markdown",
   "metadata": {},
   "source": [
    "Using the NeuroDataViz tool, we looked at the kasthuri11_synapse_subcell dataset to see what we expect synapses to look like in our images (http://viz.neurodata.io/project/kasthuri11_synapse_subcell/5/367/549/1100/#). This dataset allows for special highlighting of synapses. We can see what synapses look like, and hopefully be able to make some sense of our images above."
   ]
  },
  {
   "cell_type": "markdown",
   "metadata": {},
   "source": [
    "### NeuroDataViz Screenshots. \n",
    "#### Synapses highlighted.\n",
    "<img src=\"kasthuri11_synapse_subcell_capture.PNG\">\n",
    "#### Synapses highlighted, ventricles colored.\n",
    "<img src=\"kasthuri11_synapse_subcell_capture_with_ventricles.PNG\">"
   ]
  },
  {
   "cell_type": "markdown",
   "metadata": {},
   "source": [
    "It looks like synapses typically occur on the edges of the ventricle-filled compartments. Can we see these ventricle-filled comparments in the images of our dataset?"
   ]
  },
  {
   "cell_type": "markdown",
   "metadata": {},
   "source": [
    "<img src=\"ourdata_capture.png\">"
   ]
  },
  {
   "cell_type": "markdown",
   "metadata": {},
   "source": [
    "Using what we know about synapses from the other data images with synapses highlighted, we highlighted regions where we might expect to see synapses. "
   ]
  },
  {
   "cell_type": "markdown",
   "metadata": {},
   "source": [
    "Now, looking at the image that spans across the y layer, let's see if we find anything interesting."
   ]
  },
  {
   "cell_type": "markdown",
   "metadata": {},
   "source": [
    "Synapses seem to always appear on the edges of a ventricle compartment. There are ventricle compartments in the kasthuri11_synapse_subcell dataset that don't have synapses on the edges, but a majority of the observed region do. Using this, we expect the number of compartments fileld with ventricles to be correlated to the number of synapses in that region."
   ]
  },
  {
   "cell_type": "markdown",
   "metadata": {},
   "source": [
    "I am not able to see any strong clues for the layers across the y-direction in my images. This may be because our analysis included the sum of the whole x-z plane at a given y to produce the layer-like pattern across the y. Here, I'm only looking at one x-value and not a larger range. It may be hard to notice patterns in a sample this small."
   ]
  },
  {
   "cell_type": "markdown",
   "metadata": {},
   "source": [
    "The lower density y-layers do have more \"white space\" than the higher layers, and maybe this has to do with the number of ventricle-filled compartments in each subsection across the y."
   ]
  },
  {
   "cell_type": "markdown",
   "metadata": {},
   "source": [
    "All of the compartments in general seem to be smaller and more tightly packed in the higher-density layers across subsections of y. More compartments in general may mean a higher likelihood of seeing a ventricle-filled compartment and thus more synapses per area."
   ]
  },
  {
   "cell_type": "code",
   "execution_count": null,
   "metadata": {
    "collapsed": true
   },
   "outputs": [],
   "source": []
  }
 ],
 "metadata": {
  "kernelspec": {
   "display_name": "Python 2",
   "language": "python",
   "name": "python2"
  },
  "language_info": {
   "codemirror_mode": {
    "name": "ipython",
    "version": 2
   },
   "file_extension": ".py",
   "mimetype": "text/x-python",
   "name": "python",
   "nbconvert_exporter": "python",
   "pygments_lexer": "ipython2",
   "version": "2.7.11"
  }
 },
 "nbformat": 4,
 "nbformat_minor": 0
}
