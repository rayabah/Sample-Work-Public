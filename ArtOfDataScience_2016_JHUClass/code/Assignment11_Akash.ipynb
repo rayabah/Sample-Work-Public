{
 "cells": [
  {
   "cell_type": "markdown",
   "metadata": {},
   "source": [
    "# Assignment 11: Akash"
   ]
  },
  {
   "cell_type": "code",
   "execution_count": 1,
   "metadata": {
    "collapsed": false
   },
   "outputs": [
    {
     "name": "stdout",
     "output_type": "stream",
     "text": [
      "end setup\n"
     ]
    }
   ],
   "source": [
    "from mpl_toolkits.mplot3d import axes3d\n",
    "import matplotlib.pyplot as plt\n",
    "%matplotlib inline \n",
    "import numpy as np\n",
    "import urllib2\n",
    "import scipy.stats as stats\n",
    "\n",
    "np.set_printoptions(precision=3, suppress=True)\n",
    "url = ('https://raw.githubusercontent.com/Upward-Spiral-Science'\n",
    "       '/data/master/syn-density/output.csv')\n",
    "data = urllib2.urlopen(url)\n",
    "csv = np.genfromtxt(data, delimiter=\",\")[1:] # don't want first row (labels)\n",
    "\n",
    "# chopping data based on thresholds on x and y coordinates\n",
    "x_bounds = (409, 3529)\n",
    "y_bounds = (1564, 3124)\n",
    "\n",
    "def check_in_bounds(row, x_bounds, y_bounds):\n",
    "    if row[0] < x_bounds[0] or row[0] > x_bounds[1]:\n",
    "        return False\n",
    "    if row[1] < y_bounds[0] or row[1] > y_bounds[1]:\n",
    "        return False\n",
    "    if row[3] == 0:\n",
    "        return False\n",
    "    \n",
    "    return True\n",
    "\n",
    "indices_in_bound, = np.where(np.apply_along_axis(check_in_bounds, 1, csv,\n",
    "                                                 x_bounds, y_bounds))\n",
    "data_thresholded = csv[indices_in_bound]\n",
    "n = data_thresholded.shape[0]\n",
    "\n",
    "\n",
    "def synapses_over_unmasked(row):\n",
    "    s = (row[4]/row[3])*(64**3)\n",
    "    return [row[0], row[1], row[2], s]\n",
    "\n",
    "syn_unmasked = np.apply_along_axis(synapses_over_unmasked, 1, data_thresholded)\n",
    "syn_normalized = syn_unmasked\n",
    "print 'end setup'"
   ]
  },
  {
   "cell_type": "markdown",
   "metadata": {},
   "source": [
    "## Label Data by It's Associated Cluster"
   ]
  },
  {
   "cell_type": "markdown",
   "metadata": {},
   "source": [
    "Cluster number from previous homeworks where optimal cluster number was 4 (jay helped adapt)"
   ]
  },
  {
   "cell_type": "code",
   "execution_count": 5,
   "metadata": {
    "collapsed": false
   },
   "outputs": [
    {
     "name": "stdout",
     "output_type": "stream",
     "text": [
      "4\n",
      "(1L, 6937L, 4L)\n"
     ]
    }
   ],
   "source": [
    "import sklearn.mixture as mixture\n",
    "\n",
    "n_clusters = 4\n",
    "gmm = mixture.GMM(n_components=n_clusters, n_iter=1000, covariance_type='diag')\n",
    "labels = gmm.fit_predict(syn_unmasked)\n",
    "clusters = []\n",
    "for l in range(n_clusters):\n",
    "    a = np.where(labels == l)\n",
    "    clusters.append(syn_unmasked[a,:])\n",
    "\n",
    "print len(clusters)\n",
    "print clusters[0].shape"
   ]
  },
  {
   "cell_type": "markdown",
   "metadata": {},
   "source": [
    "## 1) Run general regressions on data associated with actual cluster"
   ]
  },
  {
   "cell_type": "markdown",
   "metadata": {},
   "source": [
    "Running our previous regressions on actual clusters (before they were split by visual estimates), we find the following:\n",
    "* Cluster 1: No regression fits\n",
    "* * asdf\n",
    "* Cluster 2: Knn is the most promising at R^2: 0.19 (+/- 0.11) \n",
    "* Cluster 3: The following regressions are the most promising: \n",
    "    R^2 of KNN Regression: 0.27 (+/- 0.16)\n",
    "    R^2 of Random Forest Regression: 0.34 (+/- 0.10)\n",
    "    R^2 of Polynomial Regression: 0.22 (+/- 0.17)\n",
    "* Cluster 4: R^2 of Random Forest Regression: 0.14 (+/- 0.07)\n",
    "\n",
    "As we can see, nothing is extrodinary, but Cluster 3 with a RFR is the closest one with the original parameters."
   ]
  },
  {
   "cell_type": "code",
   "execution_count": 14,
   "metadata": {
    "collapsed": true
   },
   "outputs": [],
   "source": [
    "# Regression (x,y,z,syn/unmasked) on cleaned data ##################################\n",
    "# Load regressions\n",
    "from sklearn.linear_model import LinearRegression\n",
    "from sklearn.svm import LinearSVR\n",
    "from sklearn.neighbors import KNeighborsRegressor as KNN\n",
    "from sklearn.ensemble import RandomForestRegressor as RF\n",
    "from sklearn.preprocessing import PolynomialFeatures as PF\n",
    "from sklearn.pipeline import Pipeline\n",
    "from sklearn import cross_validation\n",
    "names = ['Linear Regression','SVR','KNN Regression','Random Forest Regression','Polynomial Regression']\n",
    "regressions = [LinearRegression(),\n",
    "               LinearSVR(C=1.0),\n",
    "               KNN(n_neighbors=10, algorithm='auto'),\n",
    "               RF(max_depth=5, max_features=1),\n",
    "               Pipeline([('poly', PF(degree=2)),('linear', LinearRegression(fit_intercept=False))])]\n",
    "k_fold = 10"
   ]
  },
  {
   "cell_type": "code",
   "execution_count": 15,
   "metadata": {
    "collapsed": false
   },
   "outputs": [
    {
     "name": "stdout",
     "output_type": "stream",
     "text": [
      "\n",
      "Regression on cluster: 1\n",
      "R^2 of Linear Regression: -0.30 (+/- 0.68)\n",
      "R^2 of SVR: -1.35 (+/- 2.00)\n",
      "R^2 of KNN Regression: 0.08 (+/- 0.20)\n",
      "R^2 of Random Forest Regression: 0.03 (+/- 0.30)\n",
      "R^2 of Polynomial Regression: -0.02 (+/- 0.29)\n",
      "Regression done\n",
      "\n",
      "Regression on cluster: 2\n",
      "R^2 of Linear Regression: 0.00 (+/- 0.07)\n",
      "R^2 of SVR: -0.94 (+/- 1.87)\n",
      "R^2 of KNN Regression: 0.19 (+/- 0.11)\n",
      "R^2 of Random Forest Regression: 0.14 (+/- 0.07)\n",
      "R^2 of Polynomial Regression: 0.09 (+/- 0.08)\n",
      "Regression done\n",
      "\n",
      "Regression on cluster: 3\n",
      "R^2 of Linear Regression: 0.05 (+/- 0.11)\n",
      "R^2 of SVR: -0.86 (+/- 2.16)\n",
      "R^2 of KNN Regression: 0.27 (+/- 0.16)\n",
      "R^2 of Random Forest Regression: 0.34 (+/- 0.10)\n",
      "R^2 of Polynomial Regression: 0.22 (+/- 0.17)\n",
      "Regression done\n",
      "\n",
      "Regression on cluster: 4\n",
      "R^2 of Linear Regression: 0.00 (+/- 0.04)\n",
      "R^2 of SVR: -1.25 (+/- 2.81)\n",
      "R^2 of KNN Regression: 0.16 (+/- 0.21)\n",
      "R^2 of Random Forest Regression: 0.14 (+/- 0.07)\n",
      "R^2 of Polynomial Regression: 0.09 (+/- 0.07)\n",
      "Regression done\n"
     ]
    }
   ],
   "source": [
    "counter = 0\n",
    "for cluster in clusters:\n",
    "    s = cluster.shape\n",
    "    cluster = cluster.reshape((s[1], s[2]))\n",
    "    counter += 1\n",
    "    print \n",
    "    print'Regression on cluster: ' + str(counter)\n",
    "    X = cluster[:, (0,1,2)] # x,y,z\n",
    "    Y = cluster[:,-1] # syn/unmasked from spike\n",
    "    for idx2, reg in enumerate(regressions):\n",
    "        scores = cross_validation.cross_val_score(reg, X, Y, scoring='r2', cv=k_fold)\n",
    "        print(\"R^2 of %s: %0.2f (+/- %0.2f)\" % (names[idx2], scores.mean(), scores.std() * 2))\n",
    "    print \"Regression done\"\n",
    "\n"
   ]
  },
  {
   "cell_type": "markdown",
   "metadata": {
    "collapsed": true
   },
   "source": [
    "## 2) Change polynomial degree for regression on all data, by cluster"
   ]
  },
  {
   "cell_type": "code",
   "execution_count": 18,
   "metadata": {
    "collapsed": false
   },
   "outputs": [
    {
     "name": "stdout",
     "output_type": "stream",
     "text": [
      "\n",
      "Regression on cluster: 1\n",
      "R^2 of Polynomial Regression of power of 2: -0.02 (+/- 0.29)\n",
      "R^2 of Polynomial Regression of power of 3: -0.12 (+/- 0.89)\n",
      "R^2 of Polynomial Regression of power of 4: -0.19 (+/- 1.11)\n",
      "R^2 of Polynomial Regression of power of 5: -0.08 (+/- 1.16)\n",
      "R^2 of Polynomial Regression of power of 6: -1.17 (+/- 6.05)\n",
      "R^2 of Polynomial Regression of power of 7: -0.65 (+/- 3.15)\n",
      "R^2 of Polynomial Regression of power of 8: -1.61 (+/- 8.05)\n",
      "R^2 of Polynomial Regression of power of 9: -23.93 (+/- 101.98)\n",
      "Regression on section done\n",
      "\n",
      "Regression on cluster: 2\n",
      "R^2 of Polynomial Regression of power of 2: 0.09 (+/- 0.08)\n",
      "R^2 of Polynomial Regression of power of 3: 0.13 (+/- 0.09)\n",
      "R^2 of Polynomial Regression of power of 4: 0.14 (+/- 0.10)\n",
      "R^2 of Polynomial Regression of power of 5: 0.13 (+/- 0.14)\n",
      "R^2 of Polynomial Regression of power of 6: 0.10 (+/- 0.16)\n",
      "R^2 of Polynomial Regression of power of 7: -0.14 (+/- 1.02)\n",
      "R^2 of Polynomial Regression of power of 8: -1.08 (+/- 3.49)\n",
      "R^2 of Polynomial Regression of power of 9: -6.17 (+/- 36.31)\n",
      "Regression on section done\n",
      "\n",
      "Regression on cluster: 3\n",
      "R^2 of Polynomial Regression of power of 2: 0.22 (+/- 0.17)\n",
      "R^2 of Polynomial Regression of power of 3: 0.29 (+/- 0.17)\n",
      "R^2 of Polynomial Regression of power of 4: 0.33 (+/- 0.27)\n",
      "R^2 of Polynomial Regression of power of 5: 0.37 (+/- 0.35)\n",
      "R^2 of Polynomial Regression of power of 6: -0.05 (+/- 1.97)\n",
      "R^2 of Polynomial Regression of power of 7: -0.17 (+/- 2.93)\n",
      "R^2 of Polynomial Regression of power of 8: -5.76 (+/- 25.96)\n",
      "R^2 of Polynomial Regression of power of 9: -10.13 (+/- 43.37)\n",
      "Regression on section done\n",
      "\n",
      "Regression on cluster: 4\n",
      "R^2 of Polynomial Regression of power of 2: 0.09 (+/- 0.07)\n",
      "R^2 of Polynomial Regression of power of 3: 0.11 (+/- 0.13)\n",
      "R^2 of Polynomial Regression of power of 4: 0.03 (+/- 0.46)\n",
      "R^2 of Polynomial Regression of power of 5: 0.08 (+/- 0.28)\n",
      "R^2 of Polynomial Regression of power of 6: -0.10 (+/- 1.01)\n",
      "R^2 of Polynomial Regression of power of 7: -0.06 (+/- 0.66)\n",
      "R^2 of Polynomial Regression of power of 8: -5.96 (+/- 28.22)\n",
      "R^2 of Polynomial Regression of power of 9: -10.16 (+/- 41.10)\n",
      "Regression on section done\n"
     ]
    }
   ],
   "source": [
    "counter = 0\n",
    "for cluster in clusters:\n",
    "    s = cluster.shape\n",
    "    cluster = cluster.reshape((s[1], s[2]))\n",
    "    counter += 1\n",
    "    print \n",
    "    print'Regression on cluster: ' + str(counter)\n",
    "    X = cluster[:, (0,1,2)] # x,y,z\n",
    "    Y = cluster[:,-1] # syn/unmasked from spike\n",
    "    for power in range(2,10):\n",
    "        a = Pipeline([('poly', PF(degree=power)),('linear', LinearRegression(fit_intercept=False))])\n",
    "        scores = cross_validation.cross_val_score(a, X, Y, scoring='r2', cv=k_fold)\n",
    "        print(\"R^2 of Polynomial Regression of power of %i: %0.2f (+/- %0.2f)\" % (power, scores.mean(), scores.std() * 2))\n",
    "    print \"Regression on section done\"\n",
    "\n"
   ]
  },
  {
   "cell_type": "markdown",
   "metadata": {},
   "source": [
    "## 3) Change Random Forest Regression Parameters"
   ]
  },
  {
   "cell_type": "markdown",
   "metadata": {},
   "source": [
    "Only on cluster 3 does there seem to be any relation, even if it is weak. Why is it all always the same?"
   ]
  },
  {
   "cell_type": "code",
   "execution_count": 21,
   "metadata": {
    "collapsed": false
   },
   "outputs": [
    {
     "name": "stdout",
     "output_type": "stream",
     "text": [
      "\n",
      "Regression on cluster: 1\n",
      "R^2 of Random Forrest Regression of Depth 3: 0.03 (+/- 0.29)\n",
      "R^2 of Random Forrest Regression of Depth 4: 0.04 (+/- 0.23)\n",
      "R^2 of Random Forrest Regression of Depth 5: 0.03 (+/- 0.28)\n",
      "R^2 of Random Forrest Regression of Depth 6: 0.02 (+/- 0.29)\n",
      "R^2 of Random Forrest Regression of Depth 7: 0.01 (+/- 0.29)\n",
      "R^2 of Random Forrest Regression of Depth 8: 0.03 (+/- 0.30)\n",
      "R^2 of Random Forrest Regression of Depth 9: 0.03 (+/- 0.24)\n",
      "R^2 of Random Forrest Regression of Depth 10: 0.02 (+/- 0.29)\n",
      "R^2 of Random Forrest Regression of Depth 11: 0.02 (+/- 0.25)\n",
      "R^2 of Random Forrest Regression of no set depth: -0.03 (+/- 0.20)\n",
      "Regression on section done\n",
      "\n",
      "Regression on cluster: 2\n",
      "R^2 of Random Forrest Regression of Depth 3: 0.15 (+/- 0.07)\n",
      "R^2 of Random Forrest Regression of Depth 4: 0.14 (+/- 0.07)\n",
      "R^2 of Random Forrest Regression of Depth 5: 0.14 (+/- 0.07)\n",
      "R^2 of Random Forrest Regression of Depth 6: 0.14 (+/- 0.06)\n",
      "R^2 of Random Forrest Regression of Depth 7: 0.15 (+/- 0.08)\n",
      "R^2 of Random Forrest Regression of Depth 8: 0.14 (+/- 0.07)\n",
      "R^2 of Random Forrest Regression of Depth 9: 0.14 (+/- 0.05)\n",
      "R^2 of Random Forrest Regression of Depth 10: 0.14 (+/- 0.08)\n",
      "R^2 of Random Forrest Regression of Depth 11: 0.14 (+/- 0.08)\n",
      "R^2 of Random Forrest Regression of no set depth: 0.11 (+/- 0.29)\n",
      "Regression on section done\n",
      "\n",
      "Regression on cluster: 3\n",
      "R^2 of Random Forrest Regression of Depth 3: 0.33 (+/- 0.16)\n",
      "R^2 of Random Forrest Regression of Depth 4: 0.33 (+/- 0.11)\n",
      "R^2 of Random Forrest Regression of Depth 5: 0.32 (+/- 0.09)\n",
      "R^2 of Random Forrest Regression of Depth 6: 0.35 (+/- 0.09)\n",
      "R^2 of Random Forrest Regression of Depth 7: 0.33 (+/- 0.15)\n",
      "R^2 of Random Forrest Regression of Depth 8: 0.34 (+/- 0.11)\n",
      "R^2 of Random Forrest Regression of Depth 9: 0.35 (+/- 0.12)\n",
      "R^2 of Random Forrest Regression of Depth 10: 0.35 (+/- 0.11)\n",
      "R^2 of Random Forrest Regression of Depth 11: 0.32 (+/- 0.12)\n",
      "R^2 of Random Forrest Regression of no set depth: 0.31 (+/- 0.24)\n",
      "Regression on section done\n",
      "\n",
      "Regression on cluster: 4\n",
      "R^2 of Random Forrest Regression of Depth 3: 0.14 (+/- 0.09)\n",
      "R^2 of Random Forrest Regression of Depth 4: 0.14 (+/- 0.07)\n",
      "R^2 of Random Forrest Regression of Depth 5: 0.14 (+/- 0.08)\n",
      "R^2 of Random Forrest Regression of Depth 6: 0.14 (+/- 0.07)\n",
      "R^2 of Random Forrest Regression of Depth 7: 0.14 (+/- 0.08)\n",
      "R^2 of Random Forrest Regression of Depth 8: 0.14 (+/- 0.07)\n",
      "R^2 of Random Forrest Regression of Depth 9: 0.13 (+/- 0.08)\n",
      "R^2 of Random Forrest Regression of Depth 10: 0.14 (+/- 0.05)\n",
      "R^2 of Random Forrest Regression of Depth 11: 0.14 (+/- 0.08)\n",
      "R^2 of Random Forrest Regression of no set depth: 0.08 (+/- 0.32)\n",
      "Regression on section done\n"
     ]
    }
   ],
   "source": [
    "counter = 0\n",
    "for cluster in clusters:\n",
    "    s = cluster.shape\n",
    "    cluster = cluster.reshape((s[1], s[2]))\n",
    "    counter += 1\n",
    "    print \n",
    "    print'Regression on cluster: ' + str(counter)\n",
    "    X = cluster[:, (0,1,2)] # x,y,z\n",
    "    Y = cluster[:,-1] # syn/unmasked from spike\n",
    "    for depth in range(3,12):\n",
    "        a = RF(max_depth=5, max_features=1)\n",
    "        scores = cross_validation.cross_val_score(a, X, Y, scoring='r2', cv=k_fold)\n",
    "        print(\"R^2 of Random Forrest Regression of Depth %i: %0.2f (+/- %0.2f)\" % (depth, scores.mean(), scores.std() * 2))\n",
    "    \n",
    "    a = RF(max_features=1)\n",
    "    scores = cross_validation.cross_val_score(a, X, Y, scoring='r2', cv=k_fold)\n",
    "    print(\"R^2 of Random Forrest Regression of no set depth: %0.2f (+/- %0.2f)\" % (scores.mean(), scores.std() * 2))\n",
    "    print \"Regression on section done\""
   ]
  },
  {
   "cell_type": "markdown",
   "metadata": {},
   "source": [
    "## 4) Changing known nearest neighbor parameters"
   ]
  },
  {
   "cell_type": "markdown",
   "metadata": {},
   "source": [
    "In cluster 4, the more neighbors there are, the higher the relationship\n",
    "\n",
    "How do i get into cluster 4 to go deeper, if statement logic not working as == 4?"
   ]
  },
  {
   "cell_type": "code",
   "execution_count": 29,
   "metadata": {
    "collapsed": false
   },
   "outputs": [
    {
     "name": "stdout",
     "output_type": "stream",
     "text": [
      "\n",
      "Regression on cluster: 1\n",
      "R^2 of KNN w/ 5 neighbors: 0.03 (+/- 0.21)\n",
      "R^2 of KNN w/ 6 neighbors: 0.05 (+/- 0.21)\n",
      "R^2 of KNN w/ 7 neighbors: 0.06 (+/- 0.21)\n",
      "R^2 of KNN w/ 8 neighbors: 0.07 (+/- 0.20)\n",
      "R^2 of KNN w/ 9 neighbors: 0.07 (+/- 0.20)\n",
      "R^2 of KNN w/ 10 neighbors: 0.08 (+/- 0.20)\n",
      "R^2 of KNN w/ 11 neighbors: 0.08 (+/- 0.20)\n",
      "R^2 of KNN w/ 12 neighbors: 0.08 (+/- 0.20)\n",
      "R^2 of KNN w/ 13 neighbors: 0.09 (+/- 0.21)\n",
      "R^2 of KNN w/ 14 neighbors: 0.09 (+/- 0.21)\n",
      "R^2 of KNN w/ 15 neighbors: 0.09 (+/- 0.21)\n",
      "R^2 of KNN w/ 16 neighbors: 0.09 (+/- 0.21)\n",
      "R^2 of KNN w/ 17 neighbors: 0.10 (+/- 0.21)\n",
      "R^2 of KNN w/ 18 neighbors: 0.10 (+/- 0.20)\n",
      "R^2 of KNN w/ 19 neighbors: 0.10 (+/- 0.20)\n",
      "R^2 of KNN w/ 20 neighbors: 0.10 (+/- 0.20)\n",
      "R^2 of KNN w/ 21 neighbors: 0.10 (+/- 0.19)\n",
      "R^2 of KNN w/ 22 neighbors: 0.10 (+/- 0.19)\n",
      "R^2 of KNN w/ 23 neighbors: 0.10 (+/- 0.19)\n",
      "R^2 of KNN w/ 24 neighbors: 0.10 (+/- 0.19)\n",
      "R^2 of KNN w/ 25 neighbors: 0.10 (+/- 0.19)\n",
      "R^2 of KNN w/ 26 neighbors: 0.10 (+/- 0.18)\n",
      "R^2 of KNN w/ 27 neighbors: 0.10 (+/- 0.18)\n",
      "R^2 of KNN w/ 28 neighbors: 0.10 (+/- 0.18)\n",
      "R^2 of KNN w/ 29 neighbors: 0.10 (+/- 0.18)\n",
      "Regression on section done\n",
      "\n",
      "Regression on cluster: 2\n",
      "R^2 of KNN w/ 5 neighbors: 0.16 (+/- 0.12)\n",
      "R^2 of KNN w/ 6 neighbors: 0.17 (+/- 0.12)\n",
      "R^2 of KNN w/ 7 neighbors: 0.18 (+/- 0.12)\n",
      "R^2 of KNN w/ 8 neighbors: 0.18 (+/- 0.12)\n",
      "R^2 of KNN w/ 9 neighbors: 0.19 (+/- 0.12)\n",
      "R^2 of KNN w/ 10 neighbors: 0.19 (+/- 0.11)\n",
      "R^2 of KNN w/ 11 neighbors: 0.19 (+/- 0.11)\n",
      "R^2 of KNN w/ 12 neighbors: 0.20 (+/- 0.10)\n",
      "R^2 of KNN w/ 13 neighbors: 0.21 (+/- 0.10)\n",
      "R^2 of KNN w/ 14 neighbors: 0.21 (+/- 0.10)\n",
      "R^2 of KNN w/ 15 neighbors: 0.21 (+/- 0.10)\n",
      "R^2 of KNN w/ 16 neighbors: 0.21 (+/- 0.09)\n",
      "R^2 of KNN w/ 17 neighbors: 0.21 (+/- 0.09)\n",
      "R^2 of KNN w/ 18 neighbors: 0.21 (+/- 0.09)\n",
      "R^2 of KNN w/ 19 neighbors: 0.21 (+/- 0.09)\n",
      "R^2 of KNN w/ 20 neighbors: 0.21 (+/- 0.09)\n",
      "R^2 of KNN w/ 21 neighbors: 0.21 (+/- 0.09)\n",
      "R^2 of KNN w/ 22 neighbors: 0.21 (+/- 0.09)\n",
      "R^2 of KNN w/ 23 neighbors: 0.21 (+/- 0.09)\n",
      "R^2 of KNN w/ 24 neighbors: 0.21 (+/- 0.09)\n",
      "R^2 of KNN w/ 25 neighbors: 0.21 (+/- 0.08)\n",
      "R^2 of KNN w/ 26 neighbors: 0.21 (+/- 0.08)\n",
      "R^2 of KNN w/ 27 neighbors: 0.21 (+/- 0.08)\n",
      "R^2 of KNN w/ 28 neighbors: 0.20 (+/- 0.08)\n",
      "R^2 of KNN w/ 29 neighbors: 0.20 (+/- 0.08)\n",
      "Regression on section done\n",
      "\n",
      "Regression on cluster: 3\n",
      "R^2 of KNN w/ 5 neighbors: 0.27 (+/- 0.19)\n",
      "R^2 of KNN w/ 6 neighbors: 0.27 (+/- 0.19)\n",
      "R^2 of KNN w/ 7 neighbors: 0.27 (+/- 0.18)\n",
      "R^2 of KNN w/ 8 neighbors: 0.27 (+/- 0.17)\n",
      "R^2 of KNN w/ 9 neighbors: 0.27 (+/- 0.17)\n",
      "R^2 of KNN w/ 10 neighbors: 0.27 (+/- 0.16)\n",
      "R^2 of KNN w/ 11 neighbors: 0.27 (+/- 0.16)\n",
      "R^2 of KNN w/ 12 neighbors: 0.27 (+/- 0.16)\n",
      "R^2 of KNN w/ 13 neighbors: 0.26 (+/- 0.15)\n",
      "R^2 of KNN w/ 14 neighbors: 0.26 (+/- 0.15)\n",
      "R^2 of KNN w/ 15 neighbors: 0.26 (+/- 0.14)\n",
      "R^2 of KNN w/ 16 neighbors: 0.26 (+/- 0.14)\n",
      "R^2 of KNN w/ 17 neighbors: 0.26 (+/- 0.14)\n",
      "R^2 of KNN w/ 18 neighbors: 0.26 (+/- 0.14)\n",
      "R^2 of KNN w/ 19 neighbors: 0.26 (+/- 0.13)\n",
      "R^2 of KNN w/ 20 neighbors: 0.25 (+/- 0.14)\n",
      "R^2 of KNN w/ 21 neighbors: 0.25 (+/- 0.14)\n",
      "R^2 of KNN w/ 22 neighbors: 0.25 (+/- 0.14)\n",
      "R^2 of KNN w/ 23 neighbors: 0.25 (+/- 0.14)\n",
      "R^2 of KNN w/ 24 neighbors: 0.24 (+/- 0.14)\n",
      "R^2 of KNN w/ 25 neighbors: 0.24 (+/- 0.14)\n",
      "R^2 of KNN w/ 26 neighbors: 0.24 (+/- 0.13)\n",
      "R^2 of KNN w/ 27 neighbors: 0.24 (+/- 0.13)\n",
      "R^2 of KNN w/ 28 neighbors: 0.24 (+/- 0.13)\n",
      "R^2 of KNN w/ 29 neighbors: 0.23 (+/- 0.13)\n",
      "Regression on section done\n",
      "\n",
      "Regression on cluster: 4\n",
      "R^2 of KNN w/ 5 neighbors: 0.11 (+/- 0.25)\n",
      "R^2 of KNN w/ 6 neighbors: 0.13 (+/- 0.24)\n",
      "R^2 of KNN w/ 7 neighbors: 0.14 (+/- 0.23)\n",
      "R^2 of KNN w/ 8 neighbors: 0.15 (+/- 0.21)\n",
      "R^2 of KNN w/ 9 neighbors: 0.16 (+/- 0.21)\n",
      "R^2 of KNN w/ 10 neighbors: 0.16 (+/- 0.21)\n",
      "R^2 of KNN w/ 11 neighbors: 0.16 (+/- 0.21)\n",
      "R^2 of KNN w/ 12 neighbors: 0.18 (+/- 0.21)\n",
      "R^2 of KNN w/ 13 neighbors: 0.18 (+/- 0.21)\n",
      "R^2 of KNN w/ 14 neighbors: 0.18 (+/- 0.20)\n",
      "R^2 of KNN w/ 15 neighbors: 0.18 (+/- 0.19)\n",
      "R^2 of KNN w/ 16 neighbors: 0.18 (+/- 0.19)\n",
      "R^2 of KNN w/ 17 neighbors: 0.19 (+/- 0.19)\n",
      "R^2 of KNN w/ 18 neighbors: 0.19 (+/- 0.18)\n",
      "R^2 of KNN w/ 19 neighbors: 0.19 (+/- 0.18)\n",
      "R^2 of KNN w/ 20 neighbors: 0.19 (+/- 0.18)\n",
      "R^2 of KNN w/ 21 neighbors: 0.19 (+/- 0.17)\n",
      "R^2 of KNN w/ 22 neighbors: 0.19 (+/- 0.18)\n",
      "R^2 of KNN w/ 23 neighbors: 0.19 (+/- 0.17)\n",
      "R^2 of KNN w/ 24 neighbors: 0.19 (+/- 0.17)\n",
      "R^2 of KNN w/ 25 neighbors: 0.19 (+/- 0.17)\n",
      "R^2 of KNN w/ 26 neighbors: 0.19 (+/- 0.16)\n",
      "R^2 of KNN w/ 27 neighbors: 0.19 (+/- 0.16)\n",
      "R^2 of KNN w/ 28 neighbors: 0.19 (+/- 0.16)\n",
      "R^2 of KNN w/ 29 neighbors: 0.18 (+/- 0.16)\n",
      "Regression on section done\n"
     ]
    }
   ],
   "source": [
    "counter = 0\n",
    "for cluster in clusters:\n",
    "    s = cluster.shape\n",
    "    cluster = cluster.reshape((s[1], s[2]))\n",
    "    counter += 1\n",
    "    print \n",
    "    print'Regression on cluster: ' + str(counter)\n",
    "    X = cluster[:, (0,1,2)] # x,y,z\n",
    "    Y = cluster[:,-1] # syn/unmasked from spike\n",
    "    for neighbor in range(5,30):\n",
    "        a = KNN(n_neighbors=neighbor, algorithm='auto')\n",
    "        scores = cross_validation.cross_val_score(a, X, Y, scoring='r2', cv=k_fold)\n",
    "        print(\"R^2 of KNN w/ %i neighbors: %0.2f (+/- %0.2f)\" % (neighbor, scores.mean(), scores.std() * 2))\n",
    "        \n",
    " \n",
    "    print \"Regression on section done\""
   ]
  },
  {
   "cell_type": "markdown",
   "metadata": {},
   "source": [
    "## 5) Density distrubtion in each cluster"
   ]
  },
  {
   "cell_type": "markdown",
   "metadata": {},
   "source": [
    "Interestingly, cluster 3 has many values around zero. "
   ]
  },
  {
   "cell_type": "code",
   "execution_count": 44,
   "metadata": {
    "collapsed": false
   },
   "outputs": [
    {
     "name": "stdout",
     "output_type": "stream",
     "text": [
      "\n",
      "Working on cluster: 1\n",
      "Done with cluster\n",
      "\n",
      "Working on cluster: 2\n",
      "Done with cluster\n",
      "\n",
      "Working on cluster: 3\n",
      "Done with cluster\n",
      "\n",
      "Working on cluster: 4\n",
      "Done with cluster\n"
     ]
    },
    {
     "data": {
      "image/png": "[encoded data removed]",
      "text/plain": [
       "<matplotlib.figure.Figure at 0x1753ac18>"
      ]
     },
     "metadata": {},
     "output_type": "display_data"
    },
    {
     "data": {
      "text/plain": [
       "<matplotlib.figure.Figure at 0x166d8668>"
      ]
     },
     "metadata": {},
     "output_type": "display_data"
    },
    {
     "data": {
      "text/plain": [
       "<matplotlib.figure.Figure at 0x166d8e48>"
      ]
     },
     "metadata": {},
     "output_type": "display_data"
    },
    {
     "data": {
      "text/plain": [
       "<matplotlib.figure.Figure at 0x166d8dd8>"
      ]
     },
     "metadata": {},
     "output_type": "display_data"
    },
    {
     "data": {
      "text/plain": [
       "<matplotlib.figure.Figure at 0x18a49748>"
      ]
     },
     "metadata": {},
     "output_type": "display_data"
    }
   ],
   "source": [
    "counter = 0\n",
    "fig, axs = plt.subplots(1,4, figsize=(20,5))\n",
    "for cluster in clusters:\n",
    "    s = cluster.shape\n",
    "    cluster = cluster.reshape((s[1], s[2]))\n",
    "    counter += 1\n",
    "    print \n",
    "    print'Working on cluster: ' + str(counter)\n",
    "    X = cluster[:, (0,1,2)] # x,y,z\n",
    "    Y = cluster[:,-1] # syn/unmasked from spike\n",
    "    figure = plt.figure()\n",
    "    axs[counter-1].hist(cluster[:,-1],100)\n",
    "    axs[counter-1].set_title('Histogram of Density w/in Cluster#: '+ str(counter))\n",
    "    axs[counter-1].set_xlabel('Density')\n",
    "    axs[counter-1].set_ylabel('Frequency')\n",
    "    axs[counter-1].set_ylim([0,500])\n",
    "    \n",
    " \n",
    "    print \"Done with cluster\"\n",
    "plt.show()"
   ]
  },
  {
   "cell_type": "code",
   "execution_count": null,
   "metadata": {
    "collapsed": true
   },
   "outputs": [],
   "source": []
  }
 ],
 "metadata": {
  "kernelspec": {
   "display_name": "Python 2",
   "language": "python",
   "name": "python2"
  },
  "language_info": {
   "codemirror_mode": {
    "name": "ipython",
    "version": 2
   },
   "file_extension": ".py",
   "mimetype": "text/x-python",
   "name": "python",
   "nbconvert_exporter": "python",
   "pygments_lexer": "ipython2",
   "version": "2.7.11"
  }
 },
 "nbformat": 4,
 "nbformat_minor": 0
}
