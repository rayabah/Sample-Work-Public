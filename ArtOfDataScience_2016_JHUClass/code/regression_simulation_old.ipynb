{
 "cells": [
  {
   "cell_type": "markdown",
   "metadata": {},
   "source": [
    "# Regression (predicting unmasked value given (x, y, z, synapses))\n",
    "\n",
    "### Step 1: Assumptions\n",
    "Assume that unmasked values, Y, follow some joint distribution $F_{Y \\mid X}$ where $X$ is the set of data, which are vectors in $\\mathbb{R}^4$ and its elements correspond to x coordinate, y coordinate, z coordinate, synapses, respectively.\n",
    "\n",
    "### Step 2: Define model\n",
    "Let the true values of unmasked correspond to the set $Y$, and let the joint distribution be parameterized by $\\theta$. So for each $x_i \\in X \\textrm{ and } y_i \\in Y \\ , F(x;\\theta)=y$. \n",
    "\n",
    "We want to find parameters $\\hat \\theta$ such that we minimize the loss function $l(\\hat y, y)$, where $\\hat y = F(x;\\hat \\theta)$.\n",
    "\n",
    "### Step 3: Algorithms\n",
    "Linear Regression\n",
    "Support Vector Regression (SVR)\n",
    "K-Nearest Neighbor Regression (KNN)\n",
    "Random Forest Regression (RF)\n",
    "Polynomial Regression\n",
    "\n",
    "\n",
    "### Step 4/5/6 part A: Null distribution\n",
    "\n",
    "No relationship, i.e. all variables independent, so joint can be factored into marginals. Let's just let all marginals be uniform across their respective min and max in the actual dataset. So the target variable Y, i.e. unmasked, follows a multivariate uniform distribution."
   ]
  },
  {
   "cell_type": "code",
   "execution_count": 1,
   "metadata": {
    "collapsed": false
   },
   "outputs": [
    {
     "name": "stdout",
     "output_type": "stream",
     "text": [
      "R^2 of Linear Regression: -0.18 (+/- 0.38)\n",
      "R^2 of SVR: -0.25 (+/- 0.65)\n",
      "R^2 of KNN Regression: -0.10 (+/- 0.30)\n",
      "R^2 of Random Forest Regression: -0.16 (+/- 0.39)\n",
      "R^2 of Polynomial Regression: -0.16 (+/- 0.38)\n",
      "R^2 of Linear Regression: -0.16 (+/- 0.48)\n",
      "R^2 of SVR: -0.43 (+/- 0.80)\n",
      "R^2 of KNN Regression: -0.15 (+/- 0.58)\n",
      "R^2 of Random Forest Regression: -0.22 (+/- 0.49)\n",
      "R^2 of Polynomial Regression: -0.14 (+/- 0.61)\n",
      "R^2 of Linear Regression: -0.07 (+/- 0.20)\n",
      "R^2 of SVR: -0.37 (+/- 0.64)\n",
      "R^2 of KNN Regression: -0.13 (+/- 0.30)\n",
      "R^2 of Random Forest Regression: -0.16 (+/- 0.29)\n",
      "R^2 of Polynomial Regression: -0.07 (+/- 0.36)\n",
      "R^2 of Linear Regression: -0.05 (+/- 0.13)\n",
      "R^2 of SVR: -0.15 (+/- 0.37)\n",
      "R^2 of KNN Regression: -0.18 (+/- 0.26)\n",
      "R^2 of Random Forest Regression: -0.13 (+/- 0.16)\n",
      "R^2 of Polynomial Regression: -0.09 (+/- 0.18)\n",
      "R^2 of Linear Regression: -0.07 (+/- 0.15)\n",
      "R^2 of SVR: -0.21 (+/- 0.32)\n",
      "R^2 of KNN Regression: -0.17 (+/- 0.25)\n",
      "R^2 of Random Forest Regression: -0.09 (+/- 0.15)\n",
      "R^2 of Polynomial Regression: -0.11 (+/- 0.16)\n",
      "R^2 of Linear Regression: -0.02 (+/- 0.04)\n",
      "R^2 of SVR: -0.14 (+/- 0.15)\n",
      "R^2 of KNN Regression: -0.11 (+/- 0.12)\n",
      "R^2 of Random Forest Regression: -0.03 (+/- 0.07)\n",
      "R^2 of Polynomial Regression: -0.03 (+/- 0.07)\n",
      "R^2 of Linear Regression: -0.02 (+/- 0.06)\n",
      "R^2 of SVR: -0.18 (+/- 0.25)\n",
      "R^2 of KNN Regression: -0.12 (+/- 0.09)\n",
      "R^2 of Random Forest Regression: -0.03 (+/- 0.06)\n",
      "R^2 of Polynomial Regression: -0.03 (+/- 0.05)\n",
      "R^2 of Linear Regression: -0.01 (+/- 0.01)\n",
      "R^2 of SVR: -0.18 (+/- 0.13)\n",
      "R^2 of KNN Regression: -0.10 (+/- 0.10)\n",
      "R^2 of Random Forest Regression: -0.02 (+/- 0.02)\n",
      "R^2 of Polynomial Regression: -0.01 (+/- 0.03)\n",
      "R^2 of Linear Regression: -0.00 (+/- 0.00)\n",
      "R^2 of SVR: -0.13 (+/- 0.09)\n",
      "R^2 of KNN Regression: -0.11 (+/- 0.05)\n",
      "R^2 of Random Forest Regression: -0.01 (+/- 0.01)\n",
      "R^2 of Polynomial Regression: -0.01 (+/- 0.00)\n",
      "R^2 of Linear Regression: -0.00 (+/- 0.01)\n",
      "R^2 of SVR: -0.14 (+/- 0.08)\n",
      "R^2 of KNN Regression: -0.11 (+/- 0.03)\n",
      "R^2 of Random Forest Regression: -0.00 (+/- 0.01)\n",
      "R^2 of Polynomial Regression: -0.00 (+/- 0.00)\n"
     ]
    }
   ],
   "source": [
    "import numpy as np\n",
    "import matplotlib.pyplot as plt\n",
    "import urllib2\n",
    "\n",
    "%matplotlib inline\n",
    "\n",
    "sample_size = 10000\n",
    "k_fold = 10\n",
    "np.random.seed(1)\n",
    "url = ('https://raw.githubusercontent.com/Upward-Spiral-Science'\n",
    "       '/data/master/syn-density/output.csv')\n",
    "data = urllib2.urlopen(url)\n",
    "csv = np.genfromtxt(data, delimiter=\",\")[1:] # don't want first row (labels)\n",
    "\n",
    "mins = [np.min(csv[:,i]) for i in xrange(5)]\n",
    "maxs = [np.max(csv[:,i]) for i in xrange(5)]\n",
    "domains = zip(mins, maxs)\n",
    "Y_range = domains[3]\n",
    "del domains[3]\n",
    "\n",
    "\n",
    "null_X = np.array([[np.random.randint(*domains[i]) for i in xrange(4)] for k in xrange(sample_size)])\n",
    "null_Y = np.array([[np.random.randint(*Y_range)] for k in xrange(sample_size)])\n",
    "\n",
    "# Sample sizes from each synthetic data distribution\n",
    "S = np.array((100, 120, 200, 320,\n",
    "              400, 800, 1000, 2500, 5000, 7500))\n",
    "\n",
    "# load our regressions\n",
    "from sklearn.linear_model import LinearRegression\n",
    "from sklearn.svm import LinearSVR\n",
    "from sklearn.neighbors import KNeighborsRegressor as KNN\n",
    "from sklearn.ensemble import RandomForestRegressor as RF\n",
    "from sklearn.preprocessing import PolynomialFeatures as PF\n",
    "from sklearn.pipeline import Pipeline\n",
    "from sklearn import cross_validation\n",
    "names = ['Linear Regression','SVR','KNN Regression','Random Forest Regression','Polynomial Regression']\n",
    "regressions = [LinearRegression(),\n",
    "               LinearSVR(C=1.0),\n",
    "               KNN(n_neighbors=10, algorithm='auto'),\n",
    "               RF(max_depth=5, max_features=1),\n",
    "               Pipeline([('poly', PF(degree=2)),('linear', LinearRegression(fit_intercept=False))])]\n",
    "r2 = np.zeros((len(S), len(regressions), 2), dtype=np.dtype('float64'))\n",
    "\n",
    "#iterate over sample sizes and regression algos\n",
    "for idx1, N in enumerate(S):\n",
    "    # Randomly sample from synthetic data with sample size N\n",
    "    a = np.random.permutation(np.arange(sample_size))[:N]\n",
    "    X = null_X[a]\n",
    "    Y = null_Y[a]\n",
    "    Y = np.ravel(Y)\n",
    "\n",
    "    for idx2, reg in enumerate(regressions):\n",
    "        scores = cross_validation.cross_val_score(reg, X, Y, scoring='r2', cv=10)\n",
    "        r2[idx1, idx2, :] = [scores.mean(), scores.std()]\n",
    "        print(\"R^2 of %s: %0.2f (+/- %0.2f)\" % (names[idx2], scores.mean(), scores.std() * 2))"
   ]
  },
  {
   "cell_type": "markdown",
   "metadata": {},
   "source": [
    "Now graphing this data:"
   ]
  },
  {
   "cell_type": "code",
   "execution_count": 2,
   "metadata": {
    "collapsed": false
   },
   "outputs": [
    {
     "data": {
      "image/png": "[encoded data removed]",
      "text/plain": [
       "<matplotlib.figure.Figure at 0x111bf8990>"
      ]
     },
     "metadata": {},
     "output_type": "display_data"
    }
   ],
   "source": [
    "plt.errorbar(S, r2[:,0,0], yerr = r2[:,0,1], hold=True, label=names[0])\n",
    "plt.errorbar(S, r2[:,1,0], yerr = r2[:,1,1], color='green', hold=True, label=names[1])\n",
    "plt.errorbar(S, r2[:,2,0], yerr = r2[:,2,1], color='red', hold=True, label=names[2])\n",
    "plt.errorbar(S, r2[:,3,0], yerr = r2[:,3,1], color='black', hold=True, label=names[3])\n",
    "plt.errorbar(S, r2[:,4,0], yerr = r2[:,4,1], color='brown', hold=True, label=names[4])\n",
    "plt.xscale('log')\n",
    "plt.axhline(1, color='red', linestyle='--')\n",
    "plt.legend(loc='center left', bbox_to_anchor=(1, 0.5))\n",
    "plt.show()"
   ]
  },
  {
   "cell_type": "markdown",
   "metadata": {},
   "source": [
    "### Step 4/5/6 part b: Alternate distribution\n",
    "\n",
    "Here we want a strong relationship between variables. Let's keep the x, y, z uniformly distributed across the sample space, but let # of synapses, s, be a deterministic function, f, of x, y, z. Let $s=f(x,y,z)=\\frac{x+y+z}{3}$. Now let's say our random variable $Y=(s/4)+\\epsilon$ where $\\epsilon$ is some Gaussian noise with variance equal to average(s/4) (just to make this synthetic data slightly more realistic)."
   ]
  },
  {
   "cell_type": "code",
   "execution_count": 3,
   "metadata": {
    "collapsed": false
   },
   "outputs": [
    {
     "name": "stdout",
     "output_type": "stream",
     "text": [
      "R^2 of Linear Regression: 0.82 (+/- 0.18)\n",
      "R^2 of SVR: 0.53 (+/- 0.37)\n",
      "R^2 of KNN Regression: 0.77 (+/- 0.15)\n",
      "R^2 of Random Forest Regression: 0.74 (+/- 0.16)\n",
      "R^2 of Polynomial Regression: 0.79 (+/- 0.22)\n",
      "R^2 of Linear Regression: 0.88 (+/- 0.07)\n",
      "R^2 of SVR: 0.66 (+/- 0.50)\n",
      "R^2 of KNN Regression: 0.82 (+/- 0.12)\n",
      "R^2 of Random Forest Regression: 0.81 (+/- 0.10)\n",
      "R^2 of Polynomial Regression: 0.87 (+/- 0.06)\n",
      "R^2 of Linear Regression: 0.87 (+/- 0.10)\n",
      "R^2 of SVR: 0.72 (+/- 0.42)\n",
      "R^2 of KNN Regression: 0.84 (+/- 0.08)\n",
      "R^2 of Random Forest Regression: 0.82 (+/- 0.10)\n",
      "R^2 of Polynomial Regression: 0.86 (+/- 0.09)\n",
      "R^2 of Linear Regression: 0.87 (+/- 0.08)\n",
      "R^2 of SVR: 0.77 (+/- 0.30)\n",
      "R^2 of KNN Regression: 0.84 (+/- 0.11)\n",
      "R^2 of Random Forest Regression: 0.83 (+/- 0.07)\n",
      "R^2 of Polynomial Regression: 0.87 (+/- 0.08)\n",
      "R^2 of Linear Regression: 0.88 (+/- 0.05)\n",
      "R^2 of SVR: 0.52 (+/- 1.05)\n",
      "R^2 of KNN Regression: 0.86 (+/- 0.05)\n",
      "R^2 of Random Forest Regression: 0.82 (+/- 0.07)\n",
      "R^2 of Polynomial Regression: 0.88 (+/- 0.04)\n",
      "R^2 of Linear Regression: 0.88 (+/- 0.06)\n",
      "R^2 of SVR: 0.78 (+/- 0.30)\n",
      "R^2 of KNN Regression: 0.86 (+/- 0.07)\n",
      "R^2 of Random Forest Regression: 0.85 (+/- 0.07)\n",
      "R^2 of Polynomial Regression: 0.88 (+/- 0.06)\n",
      "R^2 of Linear Regression: 0.88 (+/- 0.03)\n",
      "R^2 of SVR: 0.71 (+/- 0.39)\n",
      "R^2 of KNN Regression: 0.87 (+/- 0.03)\n",
      "R^2 of Random Forest Regression: 0.84 (+/- 0.04)\n",
      "R^2 of Polynomial Regression: 0.88 (+/- 0.03)\n",
      "R^2 of Linear Regression: 0.88 (+/- 0.01)\n",
      "R^2 of SVR: 0.62 (+/- 0.77)\n",
      "R^2 of KNN Regression: 0.87 (+/- 0.02)\n",
      "R^2 of Random Forest Regression: 0.85 (+/- 0.02)\n",
      "R^2 of Polynomial Regression: 0.88 (+/- 0.01)\n",
      "R^2 of Linear Regression: 0.88 (+/- 0.02)\n",
      "R^2 of SVR: 0.67 (+/- 0.42)\n",
      "R^2 of KNN Regression: 0.87 (+/- 0.02)\n",
      "R^2 of Random Forest Regression: 0.85 (+/- 0.02)\n",
      "R^2 of Polynomial Regression: 0.88 (+/- 0.02)\n",
      "R^2 of Linear Regression: 0.88 (+/- 0.01)\n",
      "R^2 of SVR: 0.45 (+/- 1.05)\n",
      "R^2 of KNN Regression: 0.87 (+/- 0.02)\n",
      "R^2 of Random Forest Regression: 0.85 (+/- 0.02)\n",
      "R^2 of Polynomial Regression: 0.88 (+/- 0.01)\n"
     ]
    }
   ],
   "source": [
    "alt_X = np.apply_along_axis(lambda row : np.hstack((row[0:3], np.average(row[0:3]))), 1, null_X)\n",
    "std_dev = np.sqrt(np.average(alt_X[:, 3]))\n",
    "alt_Y = alt_X[:, 3]/4 + np.random.normal(scale=std_dev, size=(sample_size,))\n",
    "r2 = np.zeros((len(S), len(regressions), 2), dtype=np.dtype('float64'))\n",
    "#iterate over sample sizes and regression algos\n",
    "for idx1, N in enumerate(S):\n",
    "    # Randomly sample from synthetic data with sample size N\n",
    "    a = np.random.permutation(np.arange(sample_size))[:N]\n",
    "    X = alt_X[a]\n",
    "    Y = alt_Y[a]\n",
    "    Y = np.ravel(Y)\n",
    "\n",
    "    for idx2, reg in enumerate(regressions):\n",
    "        scores = cross_validation.cross_val_score(reg, X, Y, scoring='r2', cv=k_fold)\n",
    "        r2[idx1, idx2, :] = [scores.mean(), scores.std()]\n",
    "        print(\"R^2 of %s: %0.2f (+/- %0.2f)\" % (names[idx2], scores.mean(), scores.std() * 2))"
   ]
  },
  {
   "cell_type": "markdown",
   "metadata": {},
   "source": [
    "Now graphing it:"
   ]
  },
  {
   "cell_type": "code",
   "execution_count": 4,
   "metadata": {
    "collapsed": false
   },
   "outputs": [
    {
     "data": {
      "image/png": "[encoded data removed]",
      "text/plain": [
       "<matplotlib.figure.Figure at 0x114952510>"
      ]
     },
     "metadata": {},
     "output_type": "display_data"
    }
   ],
   "source": [
    "plt.errorbar(S, r2[:,0,0], yerr = r2[:,0,1], hold=True, label=names[0])\n",
    "plt.errorbar(S, r2[:,1,0], yerr = r2[:,1,1], color='green', hold=True, label=names[1])\n",
    "plt.errorbar(S, r2[:,2,0], yerr = r2[:,2,1], color='red', hold=True, label=names[2])\n",
    "plt.errorbar(S, r2[:,3,0], yerr = r2[:,3,1], color='black', hold=True, label=names[3])\n",
    "plt.errorbar(S, r2[:,4,0], yerr = r2[:,4,1], color='brown', hold=True, label=names[4])\n",
    "plt.xscale('log')\n",
    "plt.axhline(1, color='red', linestyle='--')\n",
    "plt.legend(loc='center left', bbox_to_anchor=(1, 0.5))\n",
    "plt.show()"
   ]
  },
  {
   "cell_type": "markdown",
   "metadata": {},
   "source": [
    "### Step 7: Apply on actual data"
   ]
  },
  {
   "cell_type": "code",
   "execution_count": 5,
   "metadata": {
    "collapsed": false
   },
   "outputs": [
    {
     "name": "stdout",
     "output_type": "stream",
     "text": [
      "R^2 of Linear Regression: 0.62 (+/- 0.40)\n",
      "R^2 of SVR: 0.57 (+/- 0.18)\n",
      "R^2 of KNN Regression: 0.25 (+/- 2.54)\n",
      "R^2 of Random Forest Regression: 0.79 (+/- 0.51)\n",
      "R^2 of Polynomial Regression: 0.85 (+/- 0.27)\n"
     ]
    }
   ],
   "source": [
    "X = csv[:, [0, 1, 2, 4]]\n",
    "Y = csv[:, 3]\n",
    "for idx2, reg in enumerate(regressions):\n",
    "    scores = cross_validation.cross_val_score(reg, X, Y, scoring='r2', cv=k_fold)\n",
    "    print(\"R^2 of %s: %0.2f (+/- %0.2f)\" % (names[idx2], scores.mean(), scores.std() * 2))"
   ]
  },
  {
   "cell_type": "markdown",
   "metadata": {},
   "source": [
    "### Step 8: Reflect on results\n",
    "Update this part. *The regression accuracy on real data based on the five tested regression algorithms is, at best, 85%, and, at worst, 41%. From the poor results of the linear regression and linear support vector, we see that the relationship between the variables (x,y,z,synapses) and the unmasked value is definitely not linear. Also, since the polynomial regression of degree 2 failed, we know that the relationship between those variables is not quadratic. We believe K-nearest neighbors failed to the high dimensionality of our data. Distances become less representative of the data with increasing dimensionaltiy. Next, we plan to investigate why random forests performed so well and review our assumptions for accuracy and completeness as well as adjust our regression algorithm parameters to better represent the true data as well as the adjusted assumptions.*\n"
   ]
  },
  {
   "cell_type": "code",
   "execution_count": null,
   "metadata": {
    "collapsed": true
   },
   "outputs": [],
   "source": []
  }
 ],
 "metadata": {
  "kernelspec": {
   "display_name": "Python 2",
   "language": "python",
   "name": "python2"
  },
  "language_info": {
   "codemirror_mode": {
    "name": "ipython",
    "version": 2
   },
   "file_extension": ".py",
   "mimetype": "text/x-python",
   "name": "python",
   "nbconvert_exporter": "python",
   "pygments_lexer": "ipython2",
   "version": "2.7.11"
  }
 },
 "nbformat": 4,
 "nbformat_minor": 0
}
